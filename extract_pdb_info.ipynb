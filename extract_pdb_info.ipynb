{
 "cells": [
  {
   "cell_type": "markdown",
   "id": "e5d721ff",
   "metadata": {},
   "source": [
    "# Pre-process PDB information"
   ]
  },
  {
   "cell_type": "markdown",
   "id": "88e7a769",
   "metadata": {},
   "source": [
    "### Load libraries"
   ]
  },
  {
   "cell_type": "code",
   "execution_count": 1,
   "id": "94211afb",
   "metadata": {},
   "outputs": [],
   "source": [
    "import pandas as pd\n",
    "import re"
   ]
  },
  {
   "cell_type": "markdown",
   "id": "c8f962d6",
   "metadata": {},
   "source": [
    "### Load data"
   ]
  },
  {
   "cell_type": "code",
   "execution_count": 2,
   "id": "dc2baeb1",
   "metadata": {},
   "outputs": [],
   "source": [
    "pdb_info_df = pd.read_csv(\"pdb_ligand_info.csv\", header = 1)"
   ]
  },
  {
   "cell_type": "markdown",
   "id": "b01af56e",
   "metadata": {},
   "source": [
    "### Pre-process PDB data to get PDB entries for final dataset"
   ]
  },
  {
   "cell_type": "code",
   "execution_count": 3,
   "id": "b999e01b",
   "metadata": {},
   "outputs": [],
   "source": [
    "# preprocess removal of entries with no PDB name (cases where a protein has more ligands)\n",
    "ligand_names = list(pdb_info_df[\"Entry ID\"])\n",
    "\n",
    "ligand_names.append(\"extend\")\n",
    "ligand_names_mod = []\n",
    "\n",
    "for i in range(len(ligand_names)-1):\n",
    "\tif pd.isna(ligand_names[i]) or pd.isna(ligand_names[i+1]):\n",
    "\t\tligand_names_mod.append(\"remove\")\n",
    "\telse:\n",
    "\t\tligand_names_mod.append(ligand_names[i])\n",
    "        \n",
    "# remove appended item\n",
    "ligand_names.pop()\n",
    "\n",
    "pdb_info_df[\"Entry ID modified\"] = ligand_names_mod\n",
    "\n",
    "# remove proteins with more than 1 ligand\n",
    "pdb_info_df = pdb_info_df[pdb_info_df[\"Entry ID modified\"] != \"remove\"]\n",
    "\n",
    "# unit test\n",
    "assert(list(pdb_info_df[\"Entry ID\"]) == list(pdb_info_df[\"Entry ID modified\"]))\n",
    "\n",
    "# remove entries with missing ligands\n",
    "pdb_info_df = pdb_info_df.dropna(how=\"any\", subset=[\"Ligand Name\"])\n",
    "\n",
    "# remove entries with an ion as ligand\n",
    "pdb_info_df = pdb_info_df[pdb_info_df[\"Ligand Name\"].str.contains(\"ION\") == False]\n",
    "\n",
    "# remove cases where ligands are in more than one chain\n",
    "pdb_info_df = pdb_info_df[~pdb_info_df[\"Asym ID\"].str.contains(\",\")]\n",
    "\n",
    "# save pdb IDs (SBDD + DiffDock), \n",
    "# SMILES structures of ligands (DiffDock)\n",
    "# and number of atoms in ligands (SBDD) to separate files\n",
    "pdb_ids_outfile = open(\"pdb_ids\", \"w\")\n",
    "smiles_outfile = open(\"SMILES_ligands\", \"w\")\n",
    "atoms_counts_outfile = open(\"atoms_count\", \"w\")\n",
    "\n",
    "for index, row in pdb_info_df.iterrows():\n",
    "\tpdb_ids_outfile.write(row[\"Entry ID\"] + \"\\n\")\n",
    "\tsmiles_outfile.write(row[\"Ligand SMILES\"] + \"\\n\")\n",
    "\n",
    "\t# extract number of atoms each ligand\n",
    "\tatoms_no = re.findall(r'\\d+', row[\"Ligand Formula\"])\n",
    "\tatoms_no = [int(i) for i in atoms_no]\n",
    "\n",
    "\t# store the different number of atoms\n",
    "\tunique_atoms = len(row[\"Ligand Formula\"].split())\n",
    "\n",
    "\t# add count of atoms only accuring once\n",
    "\tif len(atoms_no) < unique_atoms:\n",
    "\t\tatoms_no.append(unique_atoms - len(atoms_no))\n",
    "\n",
    "\t# find sum of atoms in ligand\n",
    "\tatoms_sum = sum(atoms_no)\n",
    "\n",
    "\tatoms_counts_outfile.write(str(atoms_sum) + \"\\n\")\n",
    "\n",
    "# close files\n",
    "pdb_ids_outfile.close()\n",
    "smiles_outfile.close()\n",
    "atoms_counts_outfile.close()"
   ]
  },
  {
   "cell_type": "code",
   "execution_count": null,
   "id": "76b73e22",
   "metadata": {},
   "outputs": [],
   "source": []
  }
 ],
 "metadata": {
  "kernelspec": {
   "display_name": "Python 3 (ipykernel)",
   "language": "python",
   "name": "python3"
  },
  "language_info": {
   "codemirror_mode": {
    "name": "ipython",
    "version": 3
   },
   "file_extension": ".py",
   "mimetype": "text/x-python",
   "name": "python",
   "nbconvert_exporter": "python",
   "pygments_lexer": "ipython3",
   "version": "3.8.10"
  }
 },
 "nbformat": 4,
 "nbformat_minor": 5
}
