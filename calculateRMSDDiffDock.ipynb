{
 "cells": [
  {
   "cell_type": "markdown",
   "id": "d788a048",
   "metadata": {},
   "source": [
    "# Calculate RMSD for evaluating performance of DiffDock runs"
   ]
  },
  {
   "cell_type": "markdown",
   "id": "bd34ba2c",
   "metadata": {},
   "source": [
    "### Import libraries"
   ]
  },
  {
   "cell_type": "code",
   "execution_count": 2,
   "id": "734c5086",
   "metadata": {},
   "outputs": [],
   "source": [
    "from spyrmsd import io, rmsd\n",
    "import os\n",
    "import re\n",
    "import numpy as np"
   ]
  },
  {
   "cell_type": "code",
   "execution_count": 3,
   "id": "f49e7c16",
   "metadata": {},
   "outputs": [],
   "source": [
    "def calculateRMSD(pdb_name, diffdock_filename, results_type):\n",
    "    \"\"\"Calculation of RMSD between actual and predicted ligand poses\"\"\"\n",
    "    # convert predicted and actual ligand\n",
    "    ref = io.loadmol(\"ligand_sdf/\"+pdb_name+\"_ligand.sdf\")\n",
    "    mol = io.loadmol(\"./DiffDock_results/\"+results_type+\"_results/\"+pdb_name+\"/\"+diffdock_filename)\n",
    "\n",
    "    # remove hydrogens\n",
    "    ref.strip()\n",
    "    mol.strip()\n",
    "\n",
    "    # extract atomic coordinates, atomic numbers and the molecular adjacency matrix\n",
    "    coords_ref = ref.coordinates\n",
    "    anum_ref = ref.atomicnums\n",
    "    adj_ref = ref.adjacency_matrix\n",
    "    coords = mol.coordinates\n",
    "    anum = mol.atomicnums\n",
    "    adj = mol.adjacency_matrix\n",
    "\n",
    "    # calculate RMSD\n",
    "    RMSD = rmsd.symmrmsd(\n",
    "    coords_ref,\n",
    "    coords,\n",
    "    anum_ref,\n",
    "    anum,\n",
    "    adj_ref,\n",
    "    adj,\n",
    "    )\n",
    "\n",
    "    return RMSD\n",
    "\n",
    "def StoreRMSDInfo(results_type, ranks):\n",
    "    \"\"\"Creates output file for storing RMSDs for the different runs\"\"\"\n",
    "    # extract pdb names\n",
    "    pdb_dir = os.listdir(\"./DiffDock_results/\"+results_type+\"_results\")\n",
    "    pdb_names = [item for item in pdb_dir if len(item) == 4]\n",
    "\n",
    "    # initialize\n",
    "    conf_dict = {list_: [] for list_ in range(ranks)}\n",
    "\n",
    "\n",
    "    # write information to outfile\n",
    "    confidence_rmsd_outfile = open(\"./DiffDock_RMSD/information_rmsd\"+results_type+\".tab\", \"w\")\n",
    "    confidence_rmsd_outfile.write(\"rank\\trmsd_\"+ results_type +\"\\tconfidence_score\"+ results_type +\"\\tpdb_name\\n\")\n",
    "\n",
    "    for i in range(len(pdb_names)):\n",
    "        try:\n",
    "            pred_ligands_filenames = os.listdir(\"./DiffDock_results/\"+results_type+\"_results/\"+pdb_names[i])\n",
    "            pred_ligands_filenames.sort(key=lambda f: int(''.join(filter(str.isdigit, f))))\n",
    "            pred_ligands_filenames = pred_ligands_filenames[1:]\n",
    "            assert(len(pred_ligands_filenames) == ranks)\n",
    "            for j in range(len(pred_ligands_filenames)):\n",
    "                # get correct ranks at every time (based on confidence)\n",
    "                rank = re.findall(r'\\d+', pred_ligands_filenames[j])[0]\n",
    "\n",
    "                # extract confidence score\n",
    "                assert(len(re.findall(r'\\d+.\\d+', pred_ligands_filenames[j])) == 1)\n",
    "                confidence_score = re.findall(r'\\d+.\\d+', pred_ligands_filenames[j])[0]\n",
    "\n",
    "                # get RMSD grouped on rank\n",
    "                assert(int(rank) == j+1)\n",
    "                RMSD = calculateRMSD(pdb_name = pdb_names[i], \n",
    "                    diffdock_filename = pred_ligands_filenames[j],\n",
    "                    results_type = results_type)\n",
    "                conf_dict[j].append(RMSD)\n",
    "                # write rank, RMSD, confidence score and pdb name of reference protein to outfile\n",
    "                confidence_rmsd_outfile.write(str(j+1) + \"\\t\" + str(RMSD) +\"\\t\" + confidence_score + \"\\t\" + pdb_names[i] + \"\\n\")\n",
    "\n",
    "        except OSError as err:\n",
    "            print(str(err))\n",
    "    confidence_rmsd_outfile.close()\n"
   ]
  },
  {
   "cell_type": "code",
   "execution_count": null,
   "id": "cdcffee3",
   "metadata": {},
   "outputs": [],
   "source": [
    "# get results for several runs\n",
    "StoreRMSDInfo(\"DiffDock10_long\", 10)\n",
    "StoreRMSDInfo(\"DiffDock10\", 10)\n",
    "StoreRMSDInfo(\"DiffDock40_long\", 40)\n",
    "StoreRMSDInfo(\"DiffDock40\", 40)"
   ]
  }
 ],
 "metadata": {
  "kernelspec": {
   "display_name": "Python 3 (ipykernel)",
   "language": "python",
   "name": "python3"
  },
  "language_info": {
   "codemirror_mode": {
    "name": "ipython",
    "version": 3
   },
   "file_extension": ".py",
   "mimetype": "text/x-python",
   "name": "python",
   "nbconvert_exporter": "python",
   "pygments_lexer": "ipython3",
   "version": "3.8.10"
  }
 },
 "nbformat": 4,
 "nbformat_minor": 5
}
